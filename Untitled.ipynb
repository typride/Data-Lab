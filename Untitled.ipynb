{
 "cells": [
  {
   "cell_type": "code",
   "execution_count": 8,
   "metadata": {},
   "outputs": [],
   "source": [
    "def BinToDec():\n",
    "    binary_in=[1,0,1,0]\n",
    "    # initialize\n",
    "    decimal_out = 0\n",
    "\n",
    "    # add up the binary expression of the decimal number\n",
    "    for position in range(0,len(binary_in)-1):\n",
    "\n",
    "        decimal_out = decimal_out + binary_in[len(binary_in)-position-1]*(2**position)\n",
    "\n",
    "        print(decimal_out)\n",
    "        return(decimal_out)"
   ]
  },
  {
   "cell_type": "code",
   "execution_count": null,
   "metadata": {},
   "outputs": [],
   "source": []
  },
  {
   "cell_type": "code",
   "execution_count": null,
   "metadata": {},
   "outputs": [],
   "source": []
  },
  {
   "cell_type": "code",
   "execution_count": null,
   "metadata": {},
   "outputs": [],
   "source": []
  },
  {
   "cell_type": "code",
   "execution_count": 13,
   "metadata": {},
   "outputs": [
    {
     "name": "stdout",
     "output_type": "stream",
     "text": [
      "2\n"
     ]
    }
   ],
   "source": [
    "binary_in=[1,0,1,0]\n",
    "# initialize\n",
    "decimal_out = 0\n",
    "\n",
    "# add up the binary expression of the decimal number\n",
    "for position in range(0,len(binary_in)-1):\n",
    "\n",
    "    decimal_out = decimal_out + binary_in[len(binary_in)-position-1]*(2**position)\n",
    "\n",
    "print(decimal_out)\n",
    "    "
   ]
  },
  {
   "cell_type": "code",
   "execution_count": null,
   "metadata": {},
   "outputs": [],
   "source": [
    "def DecToBin(d):\n",
    "    x=[]\n",
    "    if(d==0):\n",
    "        x.append(0)\n",
    "        return x\n",
    "    \n",
    "    if(d%2==0):\n",
    "        while d >= 0.0:\n",
    "            print(\"d=\",d)\n",
    "            if(d%2==0):\n",
    "                x.append(1)\n",
    "                d=d/2\n",
    "                print(\"d=\",d)\n",
    "            else:\n",
    "                x.append(0)\n",
    "                d=(d-1)/2\n",
    "                print(\"d=\",d)\n",
    "    else:\n",
    "        while d >= 1:\n",
    "        \n",
    "            if(d%2==0):\n",
    "                x.append(1)\n",
    "                d=int(d/2)\n",
    "                print(\"d=\",d)\n",
    "                \n",
    "    \n",
    "            else:\n",
    "                x.append(0)\n",
    "                d=int((d-1)/2)\n",
    "                print(\"d=\",d)\n",
    "        \n",
    "    return x"
   ]
  }
 ],
 "metadata": {
  "kernelspec": {
   "display_name": "Python 3",
   "language": "python",
   "name": "python3"
  },
  "language_info": {
   "codemirror_mode": {
    "name": "ipython",
    "version": 3
   },
   "file_extension": ".py",
   "mimetype": "text/x-python",
   "name": "python",
   "nbconvert_exporter": "python",
   "pygments_lexer": "ipython3",
   "version": "3.6.6"
  }
 },
 "nbformat": 4,
 "nbformat_minor": 2
}
